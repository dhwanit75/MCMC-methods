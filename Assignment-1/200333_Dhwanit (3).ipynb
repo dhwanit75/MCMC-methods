{
  "cells": [
    {
      "cell_type": "markdown",
      "metadata": {
        "id": "tQ1r1bbb0yBv"
      },
      "source": [
        "# <img src=\"https://github.com/JuliaLang/julia-logo-graphics/raw/master/images/julia-logo-color.png\" height=\"100\" /> _Colab Notebook Template_\n",
        "\n",
        "## Instructions\n",
        "1. Work on a copy of this notebook: _File_ > _Save a copy in Drive_ (you will need a Google account). Alternatively, you can download the notebook using _File_ > _Download .ipynb_, then upload it to [Colab](https://colab.research.google.com/).\n",
        "2. If you need a GPU: _Runtime_ > _Change runtime type_ > _Harware accelerator_ = _GPU_.\n",
        "3. Execute the following cell (click on it and press Ctrl+Enter) to install Julia, IJulia and other packages (if needed, update `JULIA_VERSION` and the other parameters). This takes a couple of minutes.\n",
        "4. Reload this page (press Ctrl+R, or ⌘+R, or the F5 key) and continue to the next section.\n",
        "\n",
        "_Notes_:\n",
        "* If your Colab Runtime gets reset (e.g., due to inactivity), repeat steps 2, 3 and 4.\n",
        "* After installation, if you want to change the Julia version or activate/deactivate the GPU, you will need to reset the Runtime: _Runtime_ > _Factory reset runtime_ and repeat steps 3 and 4."
      ]
    },
    {
      "cell_type": "code",
      "execution_count": null,
      "metadata": {
        "id": "GIeFXS0F0zww"
      },
      "outputs": [],
      "source": [
        "%%shell\n",
        "set -e\n",
        "\n",
        "#---------------------------------------------------#\n",
        "JULIA_VERSION=\"1.7.1\" # any version ≥ 0.7.0\n",
        "JULIA_PACKAGES=\"IJulia BenchmarkTools Plots\"\n",
        "JULIA_PACKAGES_IF_GPU=\"CUDA\" # or CuArrays for older Julia versions\n",
        "JULIA_NUM_THREADS=2\n",
        "#---------------------------------------------------#\n",
        "\n",
        "if [ -n \"$COLAB_GPU\" ] && [ -z `which julia` ]; then\n",
        "  # Install Julia\n",
        "  JULIA_VER=`cut -d '.' -f -2 <<< \"$JULIA_VERSION\"`\n",
        "  echo \"Installing Julia $JULIA_VERSION on the current Colab Runtime...\"\n",
        "  BASE_URL=\"https://julialang-s3.julialang.org/bin/linux/x64\"\n",
        "  URL=\"$BASE_URL/$JULIA_VER/julia-$JULIA_VERSION-linux-x86_64.tar.gz\"\n",
        "  wget -nv $URL -O /tmp/julia.tar.gz # -nv means \"not verbose\"\n",
        "  tar -x -f /tmp/julia.tar.gz -C /usr/local --strip-components 1\n",
        "  rm /tmp/julia.tar.gz\n",
        "\n",
        "  # Install Packages\n",
        "  if [ \"$COLAB_GPU\" = \"1\" ]; then\n",
        "      JULIA_PACKAGES=\"$JULIA_PACKAGES $JULIA_PACKAGES_IF_GPU\"\n",
        "  fi\n",
        "  for PKG in `echo $JULIA_PACKAGES`; do\n",
        "    echo \"Installing Julia package $PKG...\"\n",
        "    julia -e 'using Pkg; pkg\"add '$PKG'; precompile;\"' &> /dev/null\n",
        "  done\n",
        "\n",
        "  # Install kernel and rename it to \"julia\"\n",
        "  echo \"Installing IJulia kernel...\"\n",
        "  julia -e 'using IJulia; IJulia.installkernel(\"julia\", env=Dict(\n",
        "      \"JULIA_NUM_THREADS\"=>\"'\"$JULIA_NUM_THREADS\"'\"))'\n",
        "  KERNEL_DIR=`julia -e \"using IJulia; print(IJulia.kerneldir())\"`\n",
        "  KERNEL_NAME=`ls -d \"$KERNEL_DIR\"/julia*`\n",
        "  mv -f $KERNEL_NAME \"$KERNEL_DIR\"/julia  \n",
        "\n",
        "  echo \"Please reload this page (press Ctrl+R, ⌘+R, or the F5 key) then\"\n",
        "  echo \"jump to the 'Checking the Installation' section.\"\n",
        "fi\n",
        "  echo ''\n",
        "  echo \"Successfully installed `julia -v`!\"\n",
        "  echo \"Please reload this page (press Ctrl+R, ⌘+R, or the F5 key) then\"\n",
        "  echo \"jump to the 'Checking the Installation' section.\"\n",
        "  echo \"Please reload this page (press Ctrl+R, ⌘+R, or the F5 key) then\"\n",
        "  echo \"jump to the 'Checking the Installation' section.\"\n",
        "fi"
      ]
    },
    {
      "cell_type": "markdown",
      "metadata": {
        "id": "-OS3Ac017T1i"
      },
      "source": [
        "# Checking the Installation\n",
        "The `versioninfo()` function should print your Julia version and some other info about the system:"
      ]
    },
    {
      "cell_type": "code",
      "execution_count": null,
      "metadata": {
        "id": "EEzvvzCl1i0F"
      },
      "outputs": [],
      "source": [
        "versioninfo()\n",
        "import Pkg; Pkg.add(\"PyPlot\")\n"
      ]
    },
    {
      "cell_type": "code",
      "execution_count": null,
      "metadata": {
        "id": "vA21uc1ZNAbR"
      },
      "outputs": [],
      "source": [
        "import Pkg; Pkg.add(\"SciPy\")\n",
        "using SciPy\n",
        "SciPy.special.factorial(25)"
      ]
    },
    {
      "cell_type": "code",
      "execution_count": null,
      "metadata": {
        "colab": {
          "base_uri": "https://localhost:8080/"
        },
        "id": "_y1Mblpw-SdE",
        "outputId": "2e16886f-70c0-4a8b-f3b3-75a00238feea"
      },
      "outputs": [
        {
          "output_type": "execute_result",
          "data": {
            "text/plain": [
              "Poisson (generic function with 1 method)"
            ]
          },
          "metadata": {},
          "execution_count": 2
        }
      ],
      "source": [
        "function facto(n,tot)\n",
        "    fact = [big(1)]\n",
        "    i=1\n",
        "    while i<tot*n\n",
        "      push!(fact,big(big(fact[i])*big(i)))\n",
        "      i+=1\n",
        "    end\n",
        "    return fact\n",
        "end\n",
        "\n",
        "function Poisson_prob(lam,k,fact)\n",
        "  #if k>=length(fact)\n",
        "    return (exp(-lam)*(lam^(k)))/SciPy.special.factorial(big(k))\n",
        " # else\n",
        "  #  return (exp(-lam)*(lam^(k)))/fact[Int(k)+1]\n",
        "  #end\n",
        "end\n",
        "function Poisson(lam,fact)\n",
        "  val = floor(Int64,lam)\n",
        "  sum = 0\n",
        "  \n",
        "  req = rand()\n",
        "  for i in 0:val-1\n",
        "    sum  += Poisson_prob(lam,i,fact)\n",
        "  end\n",
        "  go = true\n",
        "  answer = -1\n",
        "  #print(\" \",req)\n",
        "  while go\n",
        "    if req > sum && req < sum + Poisson_prob(lam,val,fact)\n",
        "      go = false\n",
        "      answer = val\n",
        "    elseif req <= sum\n",
        "      val -= 1 \n",
        "      sum -= Poisson_prob(lam,val,fact)\n",
        "    elseif req >= sum + Poisson_prob(lam,val,fact)\n",
        "      sum += Poisson_prob(lam,val,fact)\n",
        "      val += 1\n",
        "    end\n",
        "  end\n",
        "  return answer\n",
        "end"
      ]
    },
    {
      "cell_type": "code",
      "execution_count": null,
      "metadata": {
        "colab": {
          "base_uri": "https://localhost:8080/",
          "height": 465
        },
        "id": "lZEqOP4PCnfZ",
        "outputId": "1a82c382-5964-4008-9daa-0aae4ee3c613"
      },
      "outputs": [
        {
          "output_type": "stream",
          "name": "stdout",
          "text": [
            "Expectation = 9.94\n",
            "Variance = 10.796400000000006"
          ]
        },
        {
          "output_type": "display_data",
          "data": {
            "text/plain": [
              "Figure(PyObject <Figure size 640x480 with 1 Axes>)"
            ],
            "image/png": "[encoded data removed]"
          },
          "metadata": {}
        }
      ],
      "source": [
        "\n",
        " #PyPlot.plt[:hist]([x,y],bins=8);\n",
        "distribution = []\n",
        "lam = 10\n",
        "sum = 0\n",
        "var = 0\n",
        "tot = 100\n",
        "fact = facto(lam,tot)\n",
        "#print(fact[2])\n",
        "for i in 1:tot\n",
        "  val = Poisson(lam,fact)\n",
        "  push!(distribution,val)  \n",
        "  sum+=val\n",
        "  var += val*val\n",
        "  #print(\" \",val)\n",
        "end\n",
        "variance = var/tot - (sum/tot)^2\n",
        "print(\"Expectation = \",sum/tot,)\n",
        "print(\"\\nVariance = \",variance)\n",
        "#plot(distribution,x=:Values, kind=\"histogram\")\n",
        "using PyPlot\n",
        "PyPlot.plt[:hist](distribution,bins=7);\n",
        "#distribution"
      ]
    },
    {
      "cell_type": "code",
      "execution_count": null,
      "metadata": {
        "colab": {
          "base_uri": "https://localhost:8080/"
        },
        "id": "RTSsEJOiCrcI",
        "outputId": "37ab366b-7678-4b62-cc44-e2cc0a9cb211"
      },
      "outputs": [
        {
          "output_type": "execute_result",
          "data": {
            "text/plain": [
              "Binomial (generic function with 1 method)"
            ]
          },
          "metadata": {},
          "execution_count": 10
        }
      ],
      "source": [
        "function Binom_prob(n,p,i)\n",
        "  return binomial(n,i)*((1-p)^(n-i))*(p^i)\n",
        "end\n",
        "function cmax(n,p,lam,fact)\n",
        "  c = []\n",
        "  for i in 0:n\n",
        "    push!(c,Binom_prob(n,p,i)/Poisson_prob(lam,i,fact))\n",
        "  end\n",
        "  return maximum(c)\n",
        "end\n",
        "function lamcalc(n,p)\n",
        "  err = 1000\n",
        "  lam = 5.0\n",
        "  c = -1\n",
        "  while err>0.00001\n",
        "    cm = cmax(n,p,lam,fact)\n",
        "    cmu = cmax(n,p,lam+0.0001,fact)\n",
        "    cml = cmax(n,p,lam-0.0001,fact)\n",
        "    if cmu<cm\n",
        "      lam+=0.0001\n",
        "      err=abs(cm-cmu)\n",
        "    elseif cml<cm\n",
        "      lam-=0.0001\n",
        "      err=abs(cm-cml)\n",
        "    else\n",
        "      break\n",
        "    end\n",
        "  end\n",
        "  return lam\n",
        "end\n",
        "function Binomial(n,p,lam,fact)\n",
        "  go = true\n",
        "  answer = -1\n",
        "  C = cmax(n,p,lam,fact)\n",
        "  #print(C,'\\n')\n",
        "  while go\n",
        "    sample = Poisson(lam,fact)\n",
        "    u = rand()\n",
        "    ratio = Binom_prob(n,p,sample)/C*Poisson_prob(lam,sample,fact)\n",
        "    if u < ratio\n",
        "      go = false\n",
        "      answer = sample\n",
        "    end\n",
        "  end\n",
        "  return answer\n",
        "end"
      ]
    },
    {
      "cell_type": "code",
      "execution_count": null,
      "metadata": {
        "id": "B8tf2Xy_dxUs",
        "colab": {
          "base_uri": "https://localhost:8080/",
          "height": 465
        },
        "outputId": "42c6f9ce-c570-411c-b8c6-c2d096b96f04"
      },
      "outputs": [
        {
          "output_type": "stream",
          "name": "stdout",
          "text": [
            "Expectation = 7.475\n",
            "Variance = 1.2813750000000041"
          ]
        },
        {
          "output_type": "display_data",
          "data": {
            "text/plain": [
              "Figure(PyObject <Figure size 640x480 with 1 Axes>)"
            ],
            "image/png": "[encoded data removed]"
          },
          "metadata": {}
        }
      ],
      "source": [
        "distribution = []\n",
        "\n",
        "n = 10\n",
        "p = 0.75\n",
        "sum = 0\n",
        "var = 0\n",
        "tot = 1000\n",
        "\n",
        "lam = lamcalc(n,p)\n",
        "fact = facto(lam,tot)\n",
        "#print(lam)\n",
        "for i in 1:tot  \n",
        "  val = Binomial(n,p,lam,fact)\n",
        "  #print(val,'\\n')\n",
        "  push!(distribution,val)  \n",
        "  sum+=val\n",
        "  var += val*val\n",
        "  #print(\" \",val)\n",
        "end\n",
        "variance = var/tot - (sum/tot)^2\n",
        "print(\"Expectation = \",sum/tot,)\n",
        "print(\"\\nVariance = \",variance)\n",
        "#plot(distribution,x=:Values, kind=\"histogram\")\n",
        "using PyPlot\n",
        "PyPlot.plt[:hist](distribution,bins=7);"
      ]
    },
    {
      "cell_type": "code",
      "execution_count": null,
      "metadata": {
        "id": "eYUYxj40gl0O"
      },
      "outputs": [],
      "source": [
        ""
      ]
    }
  ],
  "metadata": {
    "colab": {
      "collapsed_sections": [],
      "name": "julia",
      "provenance": []
    },
    "kernelspec": {
      "display_name": "Julia",
      "language": "julia",
      "name": "julia"
    },
    "language_info": {
      "file_extension": ".jl",
      "mimetype": "application/julia",
      "name": "julia"
    }
  },
  "nbformat": 4,
  "nbformat_minor": 0
}